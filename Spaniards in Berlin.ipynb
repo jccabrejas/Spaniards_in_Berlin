{
 "cells": [
  {
   "cell_type": "markdown",
   "metadata": {},
   "source": [
    "# Spaniards in Berlin"
   ]
  },
  {
   "cell_type": "markdown",
   "metadata": {},
   "source": [
    "## Export stats\n",
    "\n",
    "Data obtained from Einwohnerregisterstatistik Berlin\n",
    "https://www.statistik-berlin-brandenburg.de/webapi/jsf/tableView/tableView.xhtml#\n",
    "\n",
    "For info, check https://www.statistik-berlin-brandenburg.de/webapi/metadata/EWRBEE/EWRBEE.html\n",
    "\n",
    "- Planungsräume as rows\n",
    "- Spanien as Filter\n",
    "- Stichtag (all selected) as columns\n",
    "\n",
    "Header and tail rows deleted, so only table left, LOR (including 8 digit identifier and name) plus value per date.\n",
    "Stored in\n",
    "./data/Export_from_Statis_BBB_with_deleted_rows.csv\n",
    "\n",
    "LOR |\tLOR Name |\t31.12.2017 |\t31.12.2007 |\t31.12.2008\n",
    "--- | --- | --- | --- | ---\n",
    "01011101 |\tStülerstraße |\t81 |\t37 |\t31\n",
    "01011102 |\tGroßer Tiergarten |\t7 |\t4 |\t3\n",
    "01011103 |\tLützowstraße |\t31 |\t27 |\t27\n",
    "... | ... | ... | ... | ..."
   ]
  },
  {
   "cell_type": "markdown",
   "metadata": {},
   "source": [
    "## KML and KMZ files\n",
    "KML file and KMZ files for Berlin have been obtained from:\n",
    "- http://www.stadtentwicklung.berlin.de/planen/basisdaten_stadtentwicklung/lor/de/download.shtml\n",
    "- http://www.stadtentwicklung.berlin.de/planen/basisdaten_stadtentwicklung/lor/download/LOR_KMZ_4326.zip\n",
    "\n",
    "Lizenz: (Creative Commons)\n",
    "LOR Vektordaten der Senatsverwaltung für Stadtentwicklung und Umwelt Berlin stehen unter einer Creative Commons Namensnennung 3.0 Deutschland Lizenz.\n",
    "\n",
    "Coordinates of areas in Berlin taken from the kml file:\n",
    "./data/Mapa_de_Berlin.kml\n",
    "\n",
    "simplekml used following this tutorial\n",
    "http://www.simplekml.com/en/latest/tut_point.html\n",
    "\n",
    "Icons taken from:\n",
    "http://kml4earth.appspot.com/icons.html#kml-icons"
   ]
  },
  {
   "cell_type": "markdown",
   "metadata": {},
   "source": [
    "## Markers\n",
    "Different colours will be used depending on number of Spaniards in each area\n",
    "\n",
    "name | href | Number\n",
    "--- | --- | ---\n",
    "icon['white'] | \"http://maps.google.com/mapfiles/kml/paddle/wht-blank-lv.png\" | = 0\n",
    "icon['yellow'] | \"http://maps.google.com/mapfiles/kml/paddle/ylw-blank-lv.png\" | > 0 & < 10\n",
    "icon['green'] | \"http://maps.google.com/mapfiles/kml/paddle/grn-blank-lv.png\" | > 10 & < 100\n",
    "icon['blue'] | \"http://maps.google.com/mapfiles/kml/paddle/blu-blank-lv.png\" | > 100\n"
   ]
  },
  {
   "cell_type": "code",
   "execution_count": 117,
   "metadata": {
    "collapsed": false
   },
   "outputs": [],
   "source": [
    "import simplekml\n",
    "import pandas as pd\n",
    "\n",
    "# read KML file and extract names and coordinates for each LOR\n",
    "LOR = dict()\n",
    "inside_list_of_placemarks = False\n",
    "prev_line = ''\n",
    "with open(\"./data/Mapa_de_Berlin.kml\",\"r\") as f:\n",
    "    for line in f.readlines():\n",
    "        if \"<Placemark>\" in line:\n",
    "            inside_list_of_placemarks = True\n",
    "            continue\n",
    "        if inside_list_of_placemarks and \"<name>\" in line:\n",
    "            #Extract name\n",
    "            name = line.split(\">\")[1].split(\"<\")[0]\n",
    "        if inside_list_of_placemarks and \"<coordinates>\" in prev_line:\n",
    "            #extract coordinates\n",
    "            x,y,z = map(float,line.split(\",\"))\n",
    "            if name.isdigit():\n",
    "                LOR[name] = [x,y,z]\n",
    "            inside_list_of_placemarks = False\n",
    "        \n",
    "        prev_line = line\n",
    "\n",
    "# read csv file with population data\n",
    "data = pd.read_csv('./data/Export_from_Statis_BBB_with_deleted_rows.csv', dtype = str)\n",
    "data.replace(to_replace = '-', value = 0, inplace=True)\n",
    "\n",
    "# Create an instance of kml\n",
    "kml = simplekml.Kml(open=1)\n",
    "\n",
    "# Example for a single point\n",
    "# single_point = kml.newpoint(name=\"The World\", coords=[(0.0,0.0)])\n",
    "\n",
    "icon = dict()\n",
    "icon['white'] = \"http://maps.google.com/mapfiles/kml/paddle/wht-blank-lv.png\"\n",
    "icon['blue'] = \"http://maps.google.com/mapfiles/kml/paddle/blu-blank-lv.png\"\n",
    "icon['green'] = \"http://maps.google.com/mapfiles/kml/paddle/grn-blank-lv.png\"\n",
    "icon['red'] = \"http://maps.google.com/mapfiles/kml/paddle/red-circle-lv.png\"\n",
    "icon['yellow'] = \"http://maps.google.com/mapfiles/kml/paddle/ylw-blank-lv.png\"\n",
    "\n",
    "bezirk = dict()\n",
    "bezirk['01'] = 'Mitte'\n",
    "bezirk['02'] = 'Friedrichshain-Kreuzberg'\n",
    "bezirk['03'] = 'Pankow'\n",
    "bezirk['04'] = 'Charlottenburg-Wilmersdorf'\n",
    "bezirk['05'] = 'Spandau'\n",
    "bezirk['06'] = 'Steglitz-Zehlendorf'\n",
    "bezirk['07'] = 'Tempelhof-Schöneberg'\n",
    "bezirk['08'] = 'Neukölln'\n",
    "bezirk['09'] = 'Treptow-Köpenick'\n",
    "bezirk['10'] = 'Marzahn-Hellersdorf'\n",
    "bezirk['11'] = 'Lichtenberg'\n",
    "bezirk['12'] = 'Reinickendorf'\n",
    "\n",
    "#folders = dict()\n",
    "#for key in sorted(list(bezirk.keys())):\n",
    "#    folders[key] = kml.newfolder(name=bezirk[key])\n",
    "\n",
    "# Create a point for each city. The points' properties are assigned after the point is created\n",
    "data.sort_index(axis=1, inplace=True, ascending = False)\n",
    "for lor in LOR.keys():\n",
    "#    pnt = folders[lor[:2]].newpoint()\n",
    "    pnt = kml.newpoint()\n",
    "    pnt.name = data[data['LOR'] == lor]['LOR Name'].iloc[0]\n",
    "    pnt.description = str(data[data['LOR'] == lor].iloc[0])\n",
    "    pnt.coords = [(LOR[lor])]\n",
    "    pnt.style.iconstyle.scale = 0.3\n",
    "    if int(data[data['LOR'] == lor]['31.12.2017'].iloc[0]) == 0:\n",
    "        pnt.style.iconstyle.icon.href = icon['white']\n",
    "    if int(data[data['LOR'] == lor]['31.12.2017'].iloc[0]) > 0:\n",
    "        pnt.style.iconstyle.icon.href = icon['yellow']\n",
    "    if int(data[data['LOR'] == lor]['31.12.2017'].iloc[0]) > 10:\n",
    "        pnt.style.iconstyle.icon.href = icon['green']\n",
    "    if int(data[data['LOR'] == lor]['31.12.2017'].iloc[0]) > 100:\n",
    "        pnt.style.iconstyle.icon.href = icon['blue']\n",
    "\n",
    "# Save the KML\n",
    "kml.save(\"Spaniards_in_Berlin.kml\")\n"
   ]
  },
  {
   "cell_type": "code",
   "execution_count": null,
   "metadata": {
    "collapsed": true
   },
   "outputs": [],
   "source": []
  }
 ],
 "metadata": {
  "kernelspec": {
   "display_name": "Python 3",
   "language": "python",
   "name": "python3"
  },
  "language_info": {
   "codemirror_mode": {
    "name": "ipython",
    "version": 3
   },
   "file_extension": ".py",
   "mimetype": "text/x-python",
   "name": "python",
   "nbconvert_exporter": "python",
   "pygments_lexer": "ipython3",
   "version": "3.6.0"
  }
 },
 "nbformat": 4,
 "nbformat_minor": 2
}
